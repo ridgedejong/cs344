{
 "cells": [
  {
   "cell_type": "markdown",
   "source": [
    "# Homework 1"
   ],
   "metadata": {
    "collapsed": false
   }
  },
  {
   "cell_type": "markdown",
   "source": [
    "## 1.1\n",
    "\n",
    "The earliest psychologists studied the human mind using introspection. Introspection, by definition, is the examination\n",
    "or observation of one's own mental and emotional processes (Oxford). The goal of the psychologists in using this was to \n",
    "gain a privileged access to one's own mental states without the influence of other factors. By doing this, they could\n",
    "determine their own sensory, bodily, cognitive, and emotional states. Now, as AI continues to grow in its \n",
    "influence on the world, researchers must understand the human cognitive processes so that they can model them with AI.\n",
    "\n",
    "I believe that introspection is not a valuable way to understand these processes. Critics have explained \n",
    "that \"introspecting a mental state tends to alter the very state itself\". This is because rather than\n",
    "introspection being an inner sensation, it actually requires attention, meaning unconscious mental states cannot be \n",
    "reached. Therefore, the best introspection can do is simply give hints about how the mind works rather\n",
    "than provide a scientific theory that can be duplicated in AI. Introspection is unable of reaching the high-level\n",
    "mental processes like goal-setting and decision-making, which are the exact processes that AI needs to have\n",
    "in order to successfully solve problems. Clearly, introspection cannot function as the bridge between human cognitive\n",
    "processes and successful AI. \n",
    "\n",
    "*(source: Wikipedia)*"
   ],
   "metadata": {
    "collapsed": false
   }
  },
  {
   "cell_type": "markdown",
   "source": [
    "## 1.2\n",
    "\n",
    "A TSP problem is formulated for the local search of AIMA hill-climbing and simulated annealing algorithms. There is an\n",
    "initializer that initializes the given cities, distances between each city, and an initial (full) state. The cities \n",
    "are given as a tuple because there is no need to mutate them. The distances are stored in a dictionary with tuples\n",
    "(2 cities) as the keys and integers (distance) as the keys. The initial path is a list because it gets modified and \n",
    "tested by the search algorithms. There is only one action implementation because that's all that's necessary. This \n",
    "action returns a list of a list of 2 random indices to be swapped. Then, the result function swaps the values at \n",
    "these indices on a copy of the given state. Finally, the value function is used to evaluate the value of a given state\n",
    "by measuring the total distance travelled between the cities (and multiplied by -1 because the algorithms maximize). \n",
    "This TSP class can be seen below. "
   ],
   "metadata": {
    "collapsed": false
   }
  },
  {
   "cell_type": "code",
   "execution_count": null,
   "outputs": [],
   "source": [
    "print(\"\"\"\n",
    "from search import Problem, hill_climbing, simulated_annealing, exp_schedule\n",
    "import itertools\n",
    "import math\n",
    "import random\n",
    "\n",
    "\n",
    "class TSP(Problem):\n",
    "    # An implementation of Travelling Salesman Problem for local search. This uses the AIMA\n",
    "    # hill climbing and simulated annealing local search algorithms.\n",
    "    # \n",
    "    # State representation:\n",
    "    #     [0, ..., n, ..., 0] gives the path visiting all of the cities\n",
    "    # Move representation:\n",
    "    #     [random_index, random_index]: Gives 2 random indices in the state that will be swapped \n",
    "    \n",
    "\n",
    "    def __init__(self, cities, distances, initial):\n",
    "        self.cities = cities\n",
    "        self.distances = distances\n",
    "        self.initial = initial\n",
    "\n",
    "    def actions(self, state):\n",
    "        # Actions returns a list that contains a list of random indices to be swapped\n",
    "        \n",
    "        actions = []\n",
    "        swap1 = random.randint(1, len(self.cities)-1)\n",
    "        swap2 = random.randint(1, len(self.cities)-1)\n",
    "        t = [swap1, swap2]\n",
    "        actions.append(t)\n",
    "        return actions\n",
    "\n",
    "    def result(self, state, move):\n",
    "        # Makes the given move on a copy of the given state.\n",
    "        new_state = state[:]\n",
    "        new_state[move[0]] = state[move[1]]\n",
    "        new_state[move[1]] = state[move[0]]\n",
    "        return new_state\n",
    "\n",
    "    def value(self, state):\n",
    "        # This method computes a value of given state based on the sum of\n",
    "        # all the distances between cities travelled.\n",
    "        \n",
    "        value = 0\n",
    "        j = 1\n",
    "        for i in range (0, len(self.cities)):\n",
    "            value += self.distances[(state[i], state[j])]\n",
    "            i += 1\n",
    "            j += 1\n",
    "        return -1 * value\"\"\")"
   ],
   "metadata": {
    "collapsed": false,
    "pycharm": {
     "name": "#%%\n"
    }
   }
  },
  {
   "cell_type": "markdown",
   "source": [
    "It is configured to work for any number of cities with random distances, the only step required is changing the tuple\n",
    "of cities and adding to the dictionary of distances between cities. Originally, the class was built and tested using\n",
    "a world of 4 cities. Then, to test it further the class was given a world of 11 cities. For this larger city, both the\n",
    "hill-climbing and simulated annealing finished very quickly, however the hill-climbing consistently gave a final \n",
    "distance between 40 and 45, while the simulated annealing consistently gave a final distance between 20 and 25. This \n",
    "is because hill-climbing does not have random restarts, so it simply gives the first local maxima it reaches, while \n",
    "simulated annealing has the ability to jump around before returning a final value. Shown below is the code that makes\n",
    "the TSP class run, including the 11 city world.\n"
   ],
   "metadata": {
    "collapsed": false
   }
  },
  {
   "cell_type": "code",
   "execution_count": null,
   "outputs": [],
   "source": [
    "print(\"\"\"\n",
    "if __name__ == '__main__':\n",
    "\n",
    "    # Set the city\n",
    "    cities = (0,1,2,3,4,5,6,7,8,9,10)\n",
    "    distances = {(0,1):1, (0,2):2, (0,3):4, (0,4):3, (0,5):6, (0,6):2, (0,7):5, (0,8):7, (0,9):4, (0,10):9, (1,0):1, (1,2):5, (1,3):3, (1,4):8, (1,5):1, (1,6):5, (1,7):4, (1,8):8, (1,9):5, (1,10):2, (2, 0): 2, (2,1):5, (2,3):2, (2,4):6, (2,5):2, (2,6):3, (2,7):6, (2,8):9, (2,9):1, (2,10):4,(3,0):4, (3,1):3, (3,2):2, (3,4):5, (3,5):2, (3,6):8, (3,7):2, (3,8):5, (3,9):1, (3,10):8, (4, 0):1, (4,1):2, (4, 2):2, (4, 3):4, (4, 4):3, (4, 5):6, (4, 6):2, (4, 7):5, (4, 8):7, (4, 9):4, (4, 10):9,(5, 0):3, (5, 1):3, (5, 1):5, (5, 2):7, (5, 3):9, (5, 4):2, (5, 5):5, (5, 6):8, (5, 7):1, (5, 8):4, (5, 9):7, (5, 10):8,(6, 0):4, (6,1):3, (6, 2):7, (6, 3):4, (6, 4):2, (6, 5):9, (6, 6):6, (6, 7):4, (6, 8):2, (6, 9):5, (6, 10):7,(7, 0):2, (7, 1):6, (7, 2):4, (7, 3):2, (7, 4):7, (7, 5):8, (7, 6):4, (7, 7):2, (7, 8):1, (7, 9):8, (7, 10):4,(8, 0):3, (8,1):5, (8, 2):8, (8, 3):4, (8, 4):2, (8, 5):3, (8, 6):7, (8, 7):8, (8, 8):4, (8, 9):2, (8, 10):1,(9, 0):7, (9, 1):5, (9, 2):2, (9, 3):8, (9, 4):3, (9, 5):4, (9, 6):5, (9, 7):3, (9, 8):9, (9, 9):6, (9, 10):7, (10, 0):3, (10, 1):3, (10,1):5, (10, 2):7, (10, 3):9, (10, 4):2, (10, 5):1, (10, 6):6, (10, 7):4, (10, 8):6, (10, 9):8, (10, 10):3}\n",
    "    # print(cities)\n",
    "\n",
    "    # Initialize a path using numerical order\n",
    "    path = [0,1,2,3,4,5,6,7,8,9,10,0]\n",
    "\n",
    "    # Initialize the TSP problem\n",
    "    p = TSP(cities, distances, path)\n",
    "    print(\"Initial Path:\", path)\n",
    "\n",
    "    # Solve the problem using hill climbing.\n",
    "    hill_solution = hill_climbing(p)\n",
    "    print('\\nHill-climbing:')\n",
    "    print('\\tSolution:\\t' + str(hill_solution))\n",
    "    print('\\tValue:\\t\\t' + str(p.value(hill_solution)))\n",
    "\n",
    "    # Solve the problem using simulated annealing.\n",
    "    annealing_solution = \\\n",
    "        simulated_annealing(p, exp_schedule(k=20, lam=0.005, limit=10000))\n",
    "    print('\\nSimulated annealing:')\n",
    "    print('\\tSolution:\\t' + str(annealing_solution))\n",
    "    print('\\tValue:\\t\\t' + str(p.value(annealing_solution)))\n",
    "\"\"\")"
   ],
   "metadata": {
    "collapsed": false,
    "pycharm": {
     "name": "#%%\n"
    }
   }
  },
  {
   "cell_type": "markdown",
   "source": [
    "Overall, this is a fairly simple problem since the only things required were an initializer and 3 functions. Even with\n",
    "11 cities it becomes clear that the base simulated annealing algorithm does a much better job than the base hill-climbing\n",
    "algorithm. The only negative about this solution is that the dictionary for the distances between cities has to be \n",
    "manually entered."
   ],
   "metadata": {
    "collapsed": false
   }
  },
  {
   "cell_type": "markdown",
   "source": [
    "## 1.3\n",
    "\n",
    "Formulation of course-scheduling domain, implemented with AIMA constraint satisfaction framework.\n",
    "\n",
    "There are 6 computer science classes that need to be scheduled. There are 4 different computer science professors.\n",
    "Each class is assigned a professor. There are 4 disjointed time slots for the classes. There are 2 computer science\n",
    "classrooms that can be used.\n",
    "\n",
    "The constraints are that:\n",
    "    - each course should be offered exactly once by the assigned faculty member.\n",
    "    - a faculty member can only teach one thing at a time.\n",
    "    - a room can only have one class at each time.\n",
    "    \n",
    "While fulfilling these constraints, a solution must be found that successfully schedules all 6 classes.\n",
    "\n",
    "To formulate this problem to be solved, a list of the possible variables (classes) was created. Then, the domains of \n",
    "these variables (possible times, rooms, and faculty) were created as a dictionary with the class as the key. The \n",
    "times and rooms were added to all variables, while the faculty members were assigned to specific class domains to \n",
    "simplify the problem. The neighbors of each variable are all the other variables involved in the constraint, which in\n",
    "these case meant every class was neighbors with every other class. Next, in defining the constraints of the problem,\n",
    "the given variables A and B must not be the same because every class is only offered once. Additionally, the time and \n",
    "room of 2 given variables could not be the same because a room could not be used for 2 classes at the same time. \n",
    "Similarly, the time and faculty of 2 given variables could not be the same because a faculty could not teach 2 classes\n",
    "at the same time. Min-conflicts was used to search for a schedule that satisfied these constraints, and the solution \n",
    "was printed. \n"
   ],
   "metadata": {
    "collapsed": false
   }
  },
  {
   "cell_type": "code",
   "execution_count": null,
   "outputs": [],
   "source": [
    "print(\n",
    "    \"\"\"from csp import *\n",
    "\n",
    "def schedule():\n",
    "    # Return a CSP formulation of a scheduling problem\n",
    "    variables = ['cs108', 'cs112', 'cs212', 'cs214', 'cs262', 'cs344']\n",
    "\n",
    "    # Create the domains for every class variable, with the possible values being time and room\n",
    "    domains = {}\n",
    "    for var in variables:\n",
    "        domains[var] = [['mwf800', 'nh253'],['mwf900', 'nh253'],['mwf1030', 'nh253'],['mwf1130', 'nh253'],['mwf800', 'sb382'],['mwf900', 'sb382'],['mwf1030', 'sb382'],['mwf1130', 'sb382']]\n",
    "\n",
    "    # Explicitly assign faculty to specific classes to ensure each one only teaches one class, and to reduce the\n",
    "    # total number of possible domains for each variable\n",
    "    for i in range(8):\n",
    "        domains['cs108'][i].append('schuurman')\n",
    "        domains['cs112'][i].append('adams')\n",
    "        domains['cs212'][i].append('adams')\n",
    "        domains['cs214'][i].append('norman')\n",
    "        domains['cs262'][i].append('norman')\n",
    "        domains['cs344'][i].append('vanderlinden')\n",
    "\n",
    "    # The neighbors for each variable are all the other variables (not itself)\n",
    "    neighbors = {'cs108': ['cs112', 'cs212', 'cs214', 'cs262', 'cs344'], 'cs112': ['cs108', 'cs212', 'cs214', 'cs262', 'cs344'], 'cs212': ['cs108', 'cs112', 'cs214', 'cs262', 'cs344'], 'cs214': ['cs108', 'cs112', 'cs212', 'cs262', 'cs344'], 'cs262': ['cs108', 'cs112', 'cs212', 'cs214', 'cs344'], 'cs344': ['cs108', 'cs112', 'cs212', 'cs214', 'cs262']}\n",
    "\n",
    "    # Define the constraints that the solution must meet\n",
    "    def schedule_constraint(A, a, B, b):\n",
    "\n",
    "        # each class cannot be offered more than once (more than one state)\n",
    "        if A == B:\n",
    "            return False\n",
    "        if A != B:\n",
    "            # if both the time and room are the same for 2 variables, it is not a solution because the same room\n",
    "            # cannot be used by 2 classes at the same time\n",
    "            if a[0] == b[0] and a[1] == b[1]:\n",
    "                return False\n",
    "            # if both the time and faculty are the same for 2 variables, it is not a solution because faculty cannot\n",
    "            # teach 2 classes at the same time\n",
    "            if a[0] == b[0] and a[2] == b[2]:\n",
    "                return False\n",
    "            # if the constraints are satisfied, a solution has been found\n",
    "            return True\n",
    "\n",
    "    return CSP(variables, domains, neighbors, schedule_constraint)\n",
    "\n",
    "# use AIMA search algorithm to solve the problem\n",
    "solution = min_conflicts(schedule(), max_steps=10000)\n",
    "\n",
    "# display the solution if one was found\n",
    "if solution != None:\n",
    "    print(\"Solution:\\n\")\n",
    "    print(solution)\n",
    "else:\n",
    "    print(\"Failed: solution returned None\")\n",
    "\"\"\"\n",
    ")\n"
   ],
   "metadata": {
    "collapsed": false,
    "pycharm": {
     "name": "#%%\n"
    }
   }
  }
 ],
 "metadata": {
  "kernelspec": {
   "display_name": "Python 3",
   "language": "python",
   "name": "python3"
  },
  "language_info": {
   "codemirror_mode": {
    "name": "ipython",
    "version": 2
   },
   "file_extension": ".py",
   "mimetype": "text/x-python",
   "name": "python",
   "nbconvert_exporter": "python",
   "pygments_lexer": "ipython2",
   "version": "2.7.6"
  },
  "pycharm": {
   "stem_cell": {
    "cell_type": "raw",
    "source": [],
    "metadata": {
     "collapsed": false
    }
   }
  }
 },
 "nbformat": 4,
 "nbformat_minor": 0
}