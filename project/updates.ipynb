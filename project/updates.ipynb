{
 "cells": [
  {
   "cell_type": "markdown",
   "metadata": {
    "collapsed": true,
    "pycharm": {
     "name": "#%% md\n"
    }
   },
   "source": [
    "## Updates\n",
    "\n",
    "More types of images were fed to the model in order to compare how the model saw the different types. These new \n",
    "comparisons included a real dog versus a cartoon dog, and a blank image versus a static image. The parameters on \n",
    "each of these types were experimented with to see how they affected the model's output for each type of image.\n",
    "\n",
    "I attempted but was unable to implement my own CNN that was trained on only dogs. This would have resulted in a model\n",
    "that turned every image into different interpretations of dogs, similar to Google's model for an ILSVRC (ImageNet \n",
    "Large Scale Visual Recognition Challenge).\n",
    "\n",
    "I also attempted to apply the different pre-trained Keras CNNs to the Deep Dream algorithm. However, I was unable to\n",
    "do so due to the significant differences between their architectures. \n"
   ]
  }
 ],
 "metadata": {
  "kernelspec": {
   "display_name": "Python 3",
   "language": "python",
   "name": "python3"
  },
  "language_info": {
   "codemirror_mode": {
    "name": "ipython",
    "version": 2
   },
   "file_extension": ".py",
   "mimetype": "text/x-python",
   "name": "python",
   "nbconvert_exporter": "python",
   "pygments_lexer": "ipython2",
   "version": "2.7.6"
  },
  "pycharm": {
   "stem_cell": {
    "cell_type": "raw",
    "source": [],
    "metadata": {
     "collapsed": false
    }
   }
  }
 },
 "nbformat": 4,
 "nbformat_minor": 0
}