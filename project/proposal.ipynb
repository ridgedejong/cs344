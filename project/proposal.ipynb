{
 "cells": [
  {
   "cell_type": "markdown",
   "metadata": {
    "collapsed": true,
    "pycharm": {
     "name": "#%% md\n"
    }
   },
   "source": [
    "## Proposal\n",
    "\n",
    "### Draft\n",
    "\n",
    "One area of AI that has been opened as a result of deep neural networks is image processing. Specifically, deep\n",
    "neural networks have allowed developers to create models that can recognize images, remove noise from images, \n",
    "and increase the resolution of images. I want to dig deeper into this topic by opening up the hood and \n",
    "figuring out how exactly neural networks \"see\" images. \n",
    "\n",
    "My proposed strategy for accomplishing this task is to use a CNN to Deep Dream. Deep dream works by reversing\n",
    "the neural network so that instead of asking the model to identify an object in an image, you identify an object in the \n",
    "image and tell the model to find that object in the image. If you do this to an image that doesn't contain the  \n",
    "identified object, the model will still try to find that object because you said it is there. This will cause the model\n",
    "to start recreating the image in a way that it creates the illusion that the object is there. The significance of this\n",
    "is that when a model makes these changes, we can visually see the small pieces that the model is looking for, indicating\n",
    "what the model knows (and doesn't know) about that object and what direction the model needs to go to become more \n",
    "accurate.\n",
    "\n",
    "I want to experiment with this technology and find its capabilities. I want to figure out the different ways that \n",
    "Deep Dream interprets images. I want to see how the homgeniality and quantity of the training data affects Deep Dream's\n",
    "performance. I want to see how the structure of the CNN affects the output images, and if the network works better or\n",
    "worse on certain images. I believe that exploring these things will help me better understand how neural networks\n",
    "see images and what needs to change to make their image classification even better.\n"
   ]
  }
 ],
 "metadata": {
  "kernelspec": {
   "display_name": "Python 3",
   "language": "python",
   "name": "python3"
  },
  "language_info": {
   "codemirror_mode": {
    "name": "ipython",
    "version": 2
   },
   "file_extension": ".py",
   "mimetype": "text/x-python",
   "name": "python",
   "nbconvert_exporter": "python",
   "pygments_lexer": "ipython2",
   "version": "2.7.6"
  },
  "pycharm": {
   "stem_cell": {
    "cell_type": "raw",
    "source": [],
    "metadata": {
     "collapsed": false
    }
   }
  }
 },
 "nbformat": 4,
 "nbformat_minor": 0
}