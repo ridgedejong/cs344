{
 "cells": [
  {
   "cell_type": "markdown",
   "metadata": {
    "collapsed": true,
    "pycharm": {
     "name": "#%% md\n"
    }
   },
   "source": [
    "## Proposal\n",
    "\n",
    "### Draft\n",
    "\n",
    "One area of AI that has opened up as a result of deep neural networks is image processing. Specifically, deep\n",
    "neural networks have allowed developers to create models that can recognize images, remove noise from images, \n",
    "and increase the resolution of images. I want to dig deeper into this topic by opening up the hood and \n",
    "figuring out how exactly neural networks \"see\" images. \n",
    "\n",
    "My proposed strategy for accomplishing this task is to use a CNN to Deep Dream. Deep dream works by reversing\n",
    "the neural network so that instead of asking the model to identify an object in an image, you identify an object and \n",
    "tell the model to find that object in the image. If you do this to an image that doesn't contain the  \n",
    "identified object, the model will still try to find that object because you said it is there. This will cause the model\n",
    "to start recreating the image in a way that it creates the illusion that the object is there. The significance of this\n",
    "is that when a model makes these changes, we can visually see the small pieces that the model is looking for, indicating\n",
    "what the model knows (and doesn't know) about that object and what direction the model needs to go to become more \n",
    "accurate.\n",
    "\n",
    "I want to experiment with this technology and find its capabilities. I want to figure out the different ways that \n",
    "Deep Dream interprets images. I want to see how the homogeneity and quantity of the training data affects Deep Dream's\n",
    "performance. I want to see how the structure of the CNN affects the output images, and if the network works better or\n",
    "worse on certain images. I believe that exploring these things will help me better understand how neural networks\n",
    "see images and what needs to change to make their image classification even better.\n",
    "\n",
    "### Update\n",
    "\n",
    "To start this exploration of Deep Dream I will be working through the Deep Dream example from chollet and getting it to\n",
    "run (https://github.com/fchollet/deep-learning-with-python-notebooks/blob/master/8.2-deep-dream.ipynb). Once I have this \n",
    "tutorial up and running, I will feed it different images to see what it outputs and get a sense of what the model is\n",
    "seeing when it looks at an image. Since the CNN being used (InceptionV3) is already trained on \n",
    "ImageNet, I will feed the model different styles of images and see how the results vary. For example, how does it treat\n",
    "images with a lot or a little detail, lots of colors or only a few, complicated objects or simple shapes etc. Depending\n",
    "on time, I will use some or all of the other\n",
    "CNN architectures in Keras: VGG16, VGG19, Xception, and ResNet50 to see how they produce different results.\n",
    "Additionally, within these models I will change the combination of layer activation weights, experimenting using some,\n",
    "all, high, and low weights. These layer weights control\n",
    "how different patterns are used by the model to look at an image, where lower layers are geometric patterns and higher\n",
    "layers are more like images. \n",
    "\n",
    "The goal with all of this is too see how Deep Dream interacts with different images and CNN architectures in order to\n",
    "get a better understanding of how deep neural networks \"see\" images. \n",
    "The results will come in the form of a lot of images. These images will aid me in explaining the different effects of\n",
    "the various image styles, activation weight combinations, and CNNs. From these results I will explain what makes Deep\n",
    "Dream useful, or why it is not. If it is useful, I'll explain how it should be used and the social and ethical \n",
    "implications that come with it. "
   ]
  }
 ],
 "metadata": {
  "kernelspec": {
   "display_name": "Python 3",
   "language": "python",
   "name": "python3"
  },
  "language_info": {
   "codemirror_mode": {
    "name": "ipython",
    "version": 2
   },
   "file_extension": ".py",
   "mimetype": "text/x-python",
   "name": "python",
   "nbconvert_exporter": "python",
   "pygments_lexer": "ipython2",
   "version": "2.7.6"
  },
  "pycharm": {
   "stem_cell": {
    "cell_type": "raw",
    "source": [],
    "metadata": {
     "collapsed": false
    }
   }
  }
 },
 "nbformat": 4,
 "nbformat_minor": 0
}